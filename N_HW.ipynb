{
 "cells": [
  {
   "cell_type": "code",
   "execution_count": 18,
   "metadata": {},
   "outputs": [],
   "source": [
    "import requests\n",
    "from bs4 import BeautifulSoup\n",
    "import re"
   ]
  },
  {
   "cell_type": "code",
   "execution_count": 19,
   "metadata": {},
   "outputs": [],
   "source": [
    "def dictionary():\n",
    "    res = requests.get('https://tw.dictionary.search.yahoo.com/search', params=playload)\n",
    "    soup = BeautifulSoup(res.text, 'lxml')\n",
    "    print(soup.find_all('span',re.compile('fz-24'))[0].text)\n",
    "    for i in soup.select('.tabActived')[0].select('.fz-14'):\n",
    "        print(i.text)\n"
   ]
  },
  {
   "cell_type": "code",
   "execution_count": 20,
   "metadata": {},
   "outputs": [
    {
     "name": "stdout",
     "output_type": "stream",
     "text": [
      "test\n",
      "test\n",
      "n.[C]\n",
      "可數名詞\n",
      "1. 試驗；測試\n",
      "A simple test will show if this is real gold. 簡單的試驗就能證明這是否是真金。\n",
      "2. 化驗；化驗法；化驗劑\n",
      "He had a blood test. 他驗過血了。\n",
      "3. 檢驗；檢驗標準\n",
      "4. 測驗；考察；小考\n",
      "We are to have a history test next week. 下週我們有歷史測驗。\n",
      "5. 考驗\n",
      "vt.\n",
      "及物動詞\n",
      "1. 試驗；檢驗；測驗[（+for/in/on）]\n",
      "The doctor tested his ears. 醫生檢查他的耳朵。\n",
      "The teacher will test us in maths. 老師將測驗我們數學。\n",
      "2. 化驗，分析[（+for）]\n",
      "3. 考驗；考察\n",
      "vi.\n",
      "不及物動詞\n",
      "1. 受試驗；受測驗\n",
      "2. 測得結果\n",
      "3. （為鑑定而）進行測驗[（+for）]\n"
     ]
    }
   ],
   "source": [
    "word = input()\n",
    "playload={\n",
    "    'p':word\n",
    "}\n",
    "dictionary()"
   ]
  }
 ],
 "metadata": {
  "kernelspec": {
   "display_name": "Python 3",
   "language": "python",
   "name": "python3"
  },
  "language_info": {
   "codemirror_mode": {
    "name": "ipython",
    "version": 3
   },
   "file_extension": ".py",
   "mimetype": "text/x-python",
   "name": "python",
   "nbconvert_exporter": "python",
   "pygments_lexer": "ipython3",
   "version": "3.7.0"
  }
 },
 "nbformat": 4,
 "nbformat_minor": 2
}
