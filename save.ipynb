{
 "cells": [
  {
   "cell_type": "code",
   "execution_count": 23,
   "metadata": {},
   "outputs": [
    {
     "name": "stdout",
     "output_type": "stream",
     "text": [
      "1:1800萬 2018-11-03 14:36:59\n",
      "1:2050萬 2018-11-03 14:36:59\n",
      "1:1850萬 2018-11-03 14:36:59\n",
      "1:1800萬 2018-11-03 14:36:59\n",
      "1:1500萬 2018-11-03 14:36:59\n",
      "1:1800萬 2018-11-03 14:36:59\n",
      "1:1000萬 2018-11-03 14:36:59\n",
      "1:1000萬 2018-11-03 14:36:59\n",
      "1:1850萬 2018-11-03 14:36:59\n",
      "1:1000萬 2018-11-03 14:36:59\n",
      "1:1000萬 2018-11-03 14:36:59\n",
      "1:1000萬 2018-11-03 14:36:59\n",
      "1:2000萬 2018-11-03 14:36:59\n",
      "1:1600萬 2018-11-03 14:36:59\n",
      "1:1600萬 2018-11-03 14:36:59\n",
      "1:1600萬 2018-11-03 14:36:59\n",
      "1:1800萬 2018-11-03 14:36:59\n",
      "1:1000萬 2018-11-03 14:36:59\n",
      "1:100萬 2018-11-03 14:36:59\n",
      "1:1800萬 2018-11-03 14:36:59\n",
      "1:1300萬 2018-11-03 14:36:59\n"
     ]
    }
   ],
   "source": [
    "import requests\n",
    "import datetime\n",
    "from bs4 import BeautifulSoup\n",
    "from lxml import etree\n",
    "\n",
    "new = requests.get('http://www.8591.com.tw/mallList-list.html?searchGame=859&searchServer=&searchType=0')\n",
    "bs =BeautifulSoup(new.text)\n",
    "for i in bs.select('.detail_link'):\n",
    "    print(i.select('.ml-item-title')[0].text.split('【')[1].split('】')[0], datetime.datetime.now().strftime('%Y-%m-%d %H:%M:%S'))\n",
    "with open('/Users/SeA/Desktop/Practice/save.txt','w',encoding='big5') as f:\n",
    "    for i in bs.select('.detail_link'):\n",
    "        f.write(\"{}, {} \\n\".format(i.select('.ml-item-title')[0].text.split('【')[1].split('】')[0], datetime.datetime.now().strftime('%Y-%m-%d %H:%M:%S')))"
   ]
  }
 ],
 "metadata": {
  "kernelspec": {
   "display_name": "Python 3",
   "language": "python",
   "name": "python3"
  },
  "language_info": {
   "codemirror_mode": {
    "name": "ipython",
    "version": 3
   },
   "file_extension": ".py",
   "mimetype": "text/x-python",
   "name": "python",
   "nbconvert_exporter": "python",
   "pygments_lexer": "ipython3",
   "version": "3.7.0"
  }
 },
 "nbformat": 4,
 "nbformat_minor": 2
}
