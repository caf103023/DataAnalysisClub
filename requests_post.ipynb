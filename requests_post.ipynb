{
 "cells": [
  {
   "cell_type": "code",
   "execution_count": 2,
   "metadata": {},
   "outputs": [
    {
     "name": "stdout",
     "output_type": "stream",
     "text": [
      "\n",
      "[新聞] 跟進張麗善？黃：區域立委沒提早辭職問題\n",
      " nihil2006 11/03\n",
      "\n",
      "\t\t\t\n",
      "\t\t\t\t(已被kasion刪除) <magicgreet>非核准媒體\n",
      "\t\t\t\n",
      "\t\t\t - 11/03\n",
      "\n",
      "[問卦] 所以那個斷指有還人家了嗎？\n",
      " d125383957 11/03\n",
      "\n",
      "[問卦] 女森摸肥宅屌時會感覺如何？\n",
      " nobel777 11/03\n",
      "\n",
      "[問卦] 為什麼中鋼中油不用台鋼台油\n",
      " hanskusos 11/03\n",
      "\n",
      "Re: [問卦] 台女最正 台男最醜？\n",
      " aigis 11/03\n",
      "\n",
      "[問卦] 米兒她說 只有我能夠懂她的寂寞\n",
      " TsukimiyaAyu 11/03\n",
      "\n",
      "Re: [問卦] 台灣人學英式或美式發音哪個輕鬆？\n",
      " bluebluelan 11/03\n",
      "\n",
      "[ＦＢ] 妖西：有的人做事不會鬥人最會！\n",
      " eatk 11/03\n",
      "\n",
      "[問卦] 人類到底有沒有登上月球過？\n",
      " zakijudelo 11/03\n",
      "\n",
      "[ＦＢ] 丁守中---蔡英文總統應該在開玩笑吧！\n",
      " WeiKitten 11/03\n",
      "\n",
      "Re: [新聞] 戴奧辛大閘蟹偷賣逾9噸 重罰破1億元 史\n",
      " iecju 11/03\n",
      "\n",
      "Re: [問卦] 有沒有單手開瓶蓋的八卦？\n",
      " sdbb 11/03\n",
      "\n",
      "[問卦] 心情低落適合看連城訣嗎??\n",
      " twnail 11/03\n",
      "\n",
      "Re: [問卦] 台灣人學英式或美式發音哪個輕鬆？\n",
      " Howard61313 11/03\n",
      "\n",
      "[問卦] 成年男子打得贏10隻非洲獵犬或獵狗嗎?\n",
      " ck6fuz516 11/03\n",
      "\n",
      "[新聞] 寶可夢台南盛會第2天湧15萬遊客　粉絲塞\n",
      " TWNchurchill 11/03\n",
      "\n",
      "[問卦] 為什麼國小要調查家庭富裕情況？\n",
      " yahe0526 11/03\n",
      "\n",
      "Re: [問卦] 鹿鼎記好看在哪？\n",
      " words2012 11/03\n",
      "\n",
      "Re: [爆卦]  寶傑辭職關鍵時刻的真正原因\n",
      " stu931134 11/03\n",
      "\n",
      "[公告] 八卦板板規(2017.11.11)\n",
      " Kay731 11/11\n",
      "\n",
      "[公告] 政問罰則暫時提高至16個月\n",
      " RandyMarsh  9/30\n",
      "\n",
      "[公告] ★☆★☆八卦板主徵選報名開始☆★☆★\n",
      " kasion 11/02\n",
      "\n",
      "[公告] 參選報名截止時間(明日11/03 17:34:55)\n",
      " kasion 11/02\n",
      "\n",
      "[公告] 十一月置底閒聊聊天文\n",
      " jacklyl 11/02\n"
     ]
    }
   ],
   "source": [
    "import requests\n",
    "from bs4 import BeautifulSoup\n",
    "load= {\n",
    "    'from': '/bbs/Gossiping/index.html',\n",
    "    'yes': 'yes'\n",
    "}\n",
    "rs = requests.session()\n",
    "res = rs.post('https://www.ptt.cc/ask/over18?from=%2Fbbs%2FGossiping%2Findex.html', data=load)\n",
    "res = rs.get('https://www.ptt.cc/bbs/Gossiping/index.html')\n",
    "soup = BeautifulSoup(res.text)\n",
    "for i in soup.select('.r-ent'):\n",
    "    print(i.select('.title')[0].text, i.select('.author')[0].text, i.select('.date')[0].text)"
   ]
  },
  {
   "cell_type": "code",
   "execution_count": 3,
   "metadata": {},
   "outputs": [
    {
     "name": "stdout",
     "output_type": "stream",
     "text": [
      "18億楓幣=100元【1:1800萬】✲小瓜呆✲➪來源正當，火速交易，下標秒回！💗五分內完成移交💗\n",
      "20.5億楓幣=100元【1:2050萬】【光速】安全★可靠★快速★幫開百元散單★最高比值〓24小時營業★歡迎來撩←←←\n",
      "18.5億楓幣=100元【1:1850萬】【光速】安全★可靠★快速★幫開百元散單★最高比值〓24小時營業★歡迎來撩←←←\n",
      "18億楓幣=100元【1:1800萬】【光速】安全★可靠★快速★幫開百元散單★最高比值〓24小時營業★歡迎來撩←←←\n",
      "15億楓幣=100元【1:1500萬】✲小瓜呆✲➪來源正當，火速交易，下標秒回！💗五分內完成移交💗\n",
      "18億楓幣=100元【1:1800萬】✲小瓜呆✲➪來源正當，火速交易，下標秒回！💗五分內完成移交💗\n",
      "10億楓幣=100元【1:1000萬】「鳳姐專賣」人在可提問~可開非整數~自由市場6頻交易喲~認準保字會員~安全可靠喲\n",
      "10億楓幣=100元【1:1000萬】「鳳姐專賣」人在可提問~可開非整數~自由市場6頻交易喲~認準保字會員~安全可靠喲\n",
      "18.5億楓幣=100元【1:1850萬】「鳳姐專賣」人在可提問~可開非整數~自由市場6頻交易喲~認準保字會員~安全可靠喲\n",
      "10億楓幣=100元【1:1000萬】「鳳姐專賣」人在可提問~可開非整數~自由市場6頻交易喲~認準保字會員~安全可靠喲\n",
      "10億楓幣=100元【1:1000萬】「鳳姐專賣」人在可提問~可開非整數~自由市場6頻交易喲~認準保字會員~安全可靠喲\n",
      "10億楓幣=100元【1:1000萬】「鳳姐專賣」人在可提問~可開非整數~自由市場6頻交易喲~認準保字會員~安全可靠喲\n",
      "20億楓幣=100元【1:2000萬】✲小瓜呆✲➪來源正當，火速交易，下標秒回！💗五分內完成移交💗\n",
      "16億楓幣=100元【1:1600萬】請認🌹安全拍賣幣🌹高評價保字號🌹\n",
      "16億楓幣=100元【1:1600萬】請認🌹安全拍賣幣🌹高評價保字號🌹內有連結賣序號🌹\n",
      "16億楓幣=100元【1:1600萬】『小生』固定10頻自由交易✔來源正當✔單在人在✔火速交易✔下單後五分鐘內完成移交\n",
      "18億楓幣=100元【1:1800萬】玩家自賣快速~7平自由艾格利其旁~另賣~V卷X卷RED卷極電卷~提問\n",
      "10億楓幣=100元【1:1000萬】🔥１３頻倉庫🔥【拓海】🔥整數直接購買庫存🔥幫開散單🔥來源正當可靠🔥\n",
      "1億楓幣=100元【1:100萬】★有夠讚賣幣★人不在★幫拉拍賣\n",
      "18億楓幣=100元【1:1800萬】請認🌹安全拍賣幣🌹高評價保字號🌹\n",
      "13億楓幣=100元【1:1300萬】『鈞鈞』看評價就知道我速度多快\n"
     ]
    }
   ],
   "source": [
    "new = requests.get('http://www.8591.com.tw/mallList-list.html?searchGame=859&searchServer=&searchType=0')\n",
    "bs =BeautifulSoup(new.text)\n",
    "for i in bs.select('.detail_link'):\n",
    "    print(i.select('.ml-item-title')[0].text)\n"
   ]
  }
 ],
 "metadata": {
  "kernelspec": {
   "display_name": "Python 3",
   "language": "python",
   "name": "python3"
  },
  "language_info": {
   "codemirror_mode": {
    "name": "ipython",
    "version": 3
   },
   "file_extension": ".py",
   "mimetype": "text/x-python",
   "name": "python",
   "nbconvert_exporter": "python",
   "pygments_lexer": "ipython3",
   "version": "3.7.0"
  }
 },
 "nbformat": 4,
 "nbformat_minor": 2
}
